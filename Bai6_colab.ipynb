{
  "nbformat": 4,
  "nbformat_minor": 0,
  "metadata": {
    "colab": {
      "name": "Bai6-colab.ipynb",
      "provenance": [],
      "include_colab_link": true
    },
    "kernelspec": {
      "name": "python3",
      "display_name": "Python 3"
    }
  },
  "cells": [
    {
      "cell_type": "markdown",
      "metadata": {
        "id": "view-in-github",
        "colab_type": "text"
      },
      "source": [
        "<a href=\"https://colab.research.google.com/github/ncphung1405/hung/blob/main/Bai6_colab.ipynb\" target=\"_parent\"><img src=\"https://colab.research.google.com/assets/colab-badge.svg\" alt=\"Open In Colab\"/></a>"
      ]
    },
    {
      "cell_type": "markdown",
      "metadata": {
        "id": "-kKDPtVhV-1c"
      },
      "source": [
        "**Đây là chương trình đầu tiên**"
      ]
    },
    {
      "cell_type": "code",
      "metadata": {
        "id": "hv10dU_gJOlX",
        "colab": {
          "base_uri": "https://localhost:8080/"
        },
        "outputId": "eeb1ec25-dc17-4990-e25a-53dd0d6b0a6c"
      },
      "source": [
        "list1 = ['123','abc','xyz','def']\n",
        "list2 = [222,333,111]\n",
        "print (\"Phan tu co gia tri lon nhat: \", max(list1))\n",
        "print (\"Phan tu co gia tri lon nhat: \", max(list2))"
      ],
      "execution_count": null,
      "outputs": [
        {
          "output_type": "stream",
          "text": [
            "Phan tu co gia tri lon nhat:  xyz\n",
            "Phan tu co gia tri lon nhat:  333\n"
          ],
          "name": "stdout"
        }
      ]
    }
  ]
}