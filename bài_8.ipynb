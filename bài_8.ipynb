{
  "nbformat": 4,
  "nbformat_minor": 0,
  "metadata": {
    "colab": {
      "name": "bài 8.ipynb",
      "provenance": [],
      "include_colab_link": true
    },
    "kernelspec": {
      "name": "python3",
      "display_name": "Python 3"
    }
  },
  "cells": [
    {
      "cell_type": "markdown",
      "metadata": {
        "id": "view-in-github",
        "colab_type": "text"
      },
      "source": [
        "<a href=\"https://colab.research.google.com/github/ncphung1405/hung/blob/main/b%C3%A0i_8.ipynb\" target=\"_parent\"><img src=\"https://colab.research.google.com/assets/colab-badge.svg\" alt=\"Open In Colab\"/></a>"
      ]
    },
    {
      "cell_type": "code",
      "metadata": {
        "id": "CLIsSZTNKDJE"
      },
      "source": [
        "a=input(\"địa chỉ email muốn gửi thư: \")\n",
        "b=input(\"thông điệp gửi thư: \")\n",
        "c=input(\"số lần gửi thư: \")\n",
        "counter=1\n",
        "n=int(input(\"nhập vào số lần lặp: \"))\n",
        "while counter <= n:\n",
        "  counter =counter+1\n",
        "  print(\"địa chỉ muốn gửi thư: \",a)\n",
        "  print(\"thông điệp email  muốn gửi thư:  \",b)\n",
        "  print(\"số lần gửi thư:     \",c)"
      ],
      "execution_count": null,
      "outputs": []
    }
  ]
}