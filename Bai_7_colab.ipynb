{
  "nbformat": 4,
  "nbformat_minor": 0,
  "metadata": {
    "colab": {
      "name": "Bai 7-colab.ipynb",
      "provenance": [],
      "include_colab_link": true
    },
    "kernelspec": {
      "name": "python3",
      "display_name": "Python 3"
    }
  },
  "cells": [
    {
      "cell_type": "markdown",
      "metadata": {
        "id": "view-in-github",
        "colab_type": "text"
      },
      "source": [
        "<a href=\"https://colab.research.google.com/github/ncphung1405/hung/blob/main/Bai_7_colab.ipynb\" target=\"_parent\"><img src=\"https://colab.research.google.com/assets/colab-badge.svg\" alt=\"Open In Colab\"/></a>"
      ]
    },
    {
      "cell_type": "markdown",
      "metadata": {
        "id": "-kKDPtVhV-1c"
      },
      "source": [
        "**Đây là chương trình đầu tiên**"
      ]
    },
    {
      "cell_type": "code",
      "metadata": {
        "id": "hv10dU_gJOlX",
        "colab": {
          "base_uri": "https://localhost:8080/"
        },
        "outputId": "6a24eed5-eb27-4fc6-bf51-7b1db92a88e9"
      },
      "source": [
        "list1 = ['123','xyz','hoang','abc']\n",
        "list2 = [456,200,700]\n",
        "print (\"Phan tu co gia tri nho nhat: \", min(list1))\n",
        "print (\"Phan tu co gia tri nho nhat: \", min(list2))"
      ],
      "execution_count": null,
      "outputs": [
        {
          "output_type": "stream",
          "text": [
            "Phan tu co gia tri nho nhat:  123\n",
            "Phan tu co gia tri nho nhat:  200\n"
          ],
          "name": "stdout"
        }
      ]
    }
  ]
}